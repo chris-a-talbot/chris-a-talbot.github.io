{
  "cells": [
    {
      "cell_type": "raw",
      "metadata": {},
      "source": [
        "---\n",
        "title: \"Botany 2024\"\n",
        "subtitle: \"\\\"Do flowers of a color bloom together?\\\"\"\n",
        "format:\n",
        "  html:\n",
        "    toc: true\n",
        "    toc-depth: 2\n",
        "    toc-expand: 2\n",
        "css: cv.css\n",
        "---"
      ],
      "id": "800a62d5"
    },
    {
      "cell_type": "markdown",
      "metadata": {},
      "source": [
        "*Get in touch!* My contact information is at the bottom of this page. I'm currently seeking potential PhD advisors in the realms of evolutionary ecology, global change biology, and/or local adaptation.\n",
        "\n",
        "# Presentation schedule\n",
        "\n",
        "Authors. Year. [\"Title\".](https://stackoverflow.com/) *Journal* \n",
        "\n",
        "```{html}\n",
        "<a data-bs-toggle=\"collapse\" data-bs-target=\"#collapseExample\" aria-expanded=\"false\" aria-controls=\"collapseExample\">\n",
        "  Show Abstract\n",
        "</a> <br>\n",
        "<div class=\"collapse\" id=\"collapseExample\">\n",
        "  <div class=\"card card-body\">\n",
        "    Some placeholder content for the collapse component. This panel is hidden by default but revealed when the user activates the relevant trigger.\n",
        "  </div>\n",
        "</div>\n",
        "\n",
        "```\n",
        "\n",
        "I'll be presenting my work at the following times:\n",
        "\n",
        "- **???, June ??th**\n",
        "  - ??-??: Poster session (View the poster here!)\n",
        "\n",
        "- **???, June ??th**\n",
        "  - ??-??: Lightning talk (View the slides here!)\n",
        "\n",
        "# Supplemental information\n",
        "\n",
        "\n",
        "\n",
        "# Contact info\n",
        "\n",
        "View my CV [here!](CV.html)\n",
        "\n",
        "- **Email**: [chtalbot@umich.edu](chtalbot@umich.edu)\n",
        "- **Phone**: 1 (269) 751-9444\n",
        "- **Twitter**: [@chris__talbot](https://twitter.com/chris__talbot)\n",
        "- **LinkedIn**: [@chris-talbot](https://www.linkedin.com/in/chris-talbot/)\n",
        "- **GitHub**: [@chris-a-talbot](https://github.com/chris-a-talbot)\n",
        "- **BlueSky**: [@chtalbot](https://bsky.app/profile/chtalbot.bsky.social)"
      ],
      "id": "24a62a84"
    }
  ],
  "metadata": {
    "kernelspec": {
      "display_name": "Python 3",
      "language": "python",
      "name": "python3"
    }
  },
  "nbformat": 4,
  "nbformat_minor": 5
}